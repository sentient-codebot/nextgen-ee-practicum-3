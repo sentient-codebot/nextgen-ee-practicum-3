{
 "cells": [
  {
   "cell_type": "markdown",
   "id": "4993d94e",
   "metadata": {},
   "source": [
    "# Practicum 2: Analyze Power Flow with Realistic Time Series Load Data\n",
    "\n",
    "objectives:\n",
    "- Learn how to perform batch calculations with PowerGridModel\n",
    "- Analyze the different system states at different times of the week."
   ]
  },
  {
   "cell_type": "code",
   "execution_count": null,
   "id": "b0356930",
   "metadata": {},
   "outputs": [],
   "source": [
    "import json\n",
    "from pprint import pprint\n",
    "\n",
    "import numpy as np\n",
    "import networkx as nx\n",
    "import power_grid_model as pgm\n",
    "import pandas as pd\n",
    "from power_grid_model import initialize_array, PowerGridModel, ComponentType, ComponentAttributeFilterOptions, DatasetType, CalculationType\n",
    "from power_grid_model.utils import json_serialize, json_deserialize\n",
    "from power_grid_model.validation import assert_valid_input_data, assert_valid_batch_data\n",
    "\n",
    "import matplotlib.pyplot as plt\n",
    "import math\n",
    "from matplotlib.gridspec import GridSpec\n",
    "\n",
    "from plot_utils.plot import plot_power_grid"
   ]
  },
  {
   "cell_type": "markdown",
   "id": "71c94a4f",
   "metadata": {},
   "source": [
    "## Load Grid Parameters and Time Series Data\n"
   ]
  },
  {
   "cell_type": "code",
   "execution_count": null,
   "id": "2043c72b",
   "metadata": {},
   "outputs": [],
   "source": [
    "# load grid data\n",
    "with open(\"data/arena_raw_data_65.json\") as fp:\n",
    "    data = fp.read()\n",
    "pprint(json.loads(data))\n",
    "dataset = json_deserialize(data)"
   ]
  },
  {
   "cell_type": "code",
   "execution_count": null,
   "id": "c05ee938",
   "metadata": {},
   "outputs": [],
   "source": [
    "# load time series data from csv\n",
    "df_load_profile = pd.read_csv(\"data/processed/transformer_data_week.csv\")\n",
    "load_profile = df_load_profile[df_load_profile.columns[1:]].to_numpy()  # (672, 39)\n",
    "\n",
    "# convert to PowerGridModel data format\n",
    "load_profile_array = initialize_array(\n",
    "    DatasetType.update,\n",
    "    ComponentType.sym_load,\n",
    "    load_profile.shape,  # (672, 39)\n",
    ")\n",
    "load_profile_array[\"id\"] = [dataset[\"sym_load\"][\"id\"]]\n",
    "load_profile_array[\"p_specified\"] = load_profile * 1e3\n",
    "load_profile_array[\"q_specified\"] = load_profile * 1e3 * 0.4843  # PF = 0.9\n",
    "\n",
    "time_series_mutation = {\n",
    "    ComponentType.sym_load: load_profile_array,\n",
    "}\n",
    "assert_valid_batch_data(input_data=dataset, update_data=time_series_mutation,\n",
    "                        calculation_type=CalculationType.power_flow)"
   ]
  },
  {
   "cell_type": "markdown",
   "id": "268c7b3a",
   "metadata": {},
   "source": [
    "## Calculate Power Flow"
   ]
  },
  {
   "cell_type": "code",
   "execution_count": null,
   "id": "9d7ccc2f",
   "metadata": {},
   "outputs": [],
   "source": [
    "# build PowerGridModel with batched data and calculate power flow\n",
    "model = PowerGridModel(dataset)\n",
    "output_data = model.calculate_power_flow(\n",
    "    update_data=time_series_mutation,\n",
    ")"
   ]
  },
  {
   "cell_type": "markdown",
   "id": "120b3e75",
   "metadata": {},
   "source": [
    "## Plot the Results"
   ]
  },
  {
   "cell_type": "code",
   "execution_count": null,
   "id": "f1d7aa90",
   "metadata": {},
   "outputs": [],
   "source": [
    "# plot u_pu of each node over time\n",
    "# Create a figure with a 4x4 grid of subplots\n",
    "# 3 ids per subplot\n",
    "num_nodes = output_data[ComponentType.node].shape[1]\n",
    "fig = plt.figure(figsize=(12, 8), layout=\"constrained\")\n",
    "gs = GridSpec(4, 4, figure=fig)\n",
    "for cell_idx in range(0, num_nodes, math.ceil(num_nodes / 16)):\n",
    "    ax = fig.add_subplot(gs[cell_idx // 12, cell_idx // 3 % 4])\n",
    "    for node_idx in range(cell_idx, min(cell_idx + 3, num_nodes)):\n",
    "        node_id = output_data[ComponentType.node][\"id\"][:,node_idx]\n",
    "        u_pu = output_data[ComponentType.node][\"u_pu\"][:,node_idx]\n",
    "        ax.plot(u_pu, label=node_id[0])\n",
    "    ax.set_title(f\"Node {cell_idx // 3 + 1} to {min(cell_idx + 3, num_nodes)}\")\n",
    "    ax.set_xlabel(\"Time\")\n",
    "    ax.set_ylabel(\"Voltage (p.u.)\")"
   ]
  },
  {
   "cell_type": "code",
   "execution_count": null,
   "id": "e7c80c58",
   "metadata": {},
   "outputs": [],
   "source": [
    "# plot loading of each line\n",
    "# Create a figure with a 4x4 grid of subplots\n",
    "# 41 lines, 3 ids per subplot\n",
    "num_lines = output_data[ComponentType.line].shape[1]\n",
    "fig = plt.figure(figsize=(12, 8), layout=\"constrained\")\n",
    "gs = GridSpec(4, 4, figure=fig)\n",
    "for cell_idx in range(0, num_lines, math.ceil(num_lines / 16)):\n",
    "    ax = fig.add_subplot(gs[cell_idx // 12, cell_idx // 3 % 4])\n",
    "    for line_idx in range(cell_idx, min(cell_idx + 3, num_lines)):\n",
    "        line_id = output_data[ComponentType.line][\"id\"][:,line_idx]\n",
    "        loading = output_data[ComponentType.line][\"loading\"][:,line_idx]\n",
    "        ax.plot(loading, label=line_id[0])\n",
    "    ax.set_title(f\"Line {cell_idx // 3 + 1}\")\n",
    "    ax.set_xlabel(\"Time\")\n",
    "    ax.set_ylabel(\"Loading (-)\")"
   ]
  },
  {
   "cell_type": "markdown",
   "id": "21f6d029",
   "metadata": {},
   "source": [
    "## Visualize the Whole Graph"
   ]
  },
  {
   "cell_type": "code",
   "execution_count": null,
   "id": "0892f488",
   "metadata": {},
   "outputs": [],
   "source": [
    "graph = nx.Graph()\n",
    "graph.add_nodes_from(\n",
    "    output_data[ComponentType.node][\"id\"][0],\n",
    ")\n",
    "graph.add_edges_from(\n",
    "    zip(dataset[ComponentType.line][\"from_node\"], dataset[ComponentType.line][\"to_node\"]),\n",
    ")\n",
    "graph.add_edges_from(\n",
    "    zip(dataset[ComponentType.transformer][\"from_node\"], dataset[ComponentType.transformer][\"to_node\"]),\n",
    ")\n",
    "\n",
    "pos=nx.spring_layout(graph, k=1.0, seed=43)\n",
    "\n",
    "def visualize_snapshot(timestep: int) -> None:\n",
    "    snapshot_node = output_data[ComponentType.node][timestep, :]  # shape (40,)\n",
    "    snapshot_line = output_data[ComponentType.line][timestep, :]  # shape (#lines,)\n",
    "    snapshot_transformer = output_data[ComponentType.transformer][0, :]  # shape (#transformers,)\n",
    "\n",
    "    node_voltages = {_node[\"id\"]: _node[\"u_pu\"] for _node in snapshot_node}\n",
    "    edge_loadings = {(_line_input[\"from_node\"], _line_input[\"to_node\"]): _line[\"loading\"]\n",
    "            for _line_input, _line in zip(dataset[ComponentType.line], snapshot_line)}\n",
    "    edge_loadings.update({\n",
    "        (_transformer_input[\"from_node\"], _transformer_input[\"to_node\"]): _transformer[\"loading\"]\n",
    "        for _transformer_input, _transformer in zip(dataset[ComponentType.transformer], snapshot_transformer)\n",
    "    })\n",
    "    for _node in snapshot_node:\n",
    "        graph.nodes[_node[\"id\"]][\"voltage\"] = _node[\"u_pu\"]\n",
    "    for _edge_from_to, _edge_loading in edge_loadings.items():\n",
    "        graph.edges[_edge_from_to][\"loading\"] = _edge_loading\n",
    "\n",
    "    fig, ax = plot_power_grid(\n",
    "            graph,\n",
    "            voltage_display='color',\n",
    "            voltage_cmap=\"seismic\",\n",
    "            loading_display='color',\n",
    "            loading_cmap=\"inferno_r\",\n",
    "            figsize=(10, 8),\n",
    "            node_size=500,\n",
    "            edge_width=3,\n",
    "            font_size=10,\n",
    "            loading_vmax=2,\n",
    "            show_node_types=True,\n",
    "            pos=pos,\n",
    "        )\n",
    "\n",
    "    plt.title('Power Grid Visualization')\n",
    "    plt.show()"
   ]
  },
  {
   "cell_type": "code",
   "execution_count": null,
   "id": "221c847a",
   "metadata": {},
   "outputs": [],
   "source": [
    "visualize_snapshot(timestep=250)"
   ]
  },
  {
   "cell_type": "code",
   "execution_count": null,
   "id": "bc0f797e",
   "metadata": {},
   "outputs": [],
   "source": [
    "# use a slider\n",
    "import ipywidgets as widgets\n",
    "from ipywidgets import interact, interactive\n",
    "from IPython.display import display\n",
    "\n",
    "# Create a slider\n",
    "slider = widgets.IntSlider(\n",
    "    value=100,\n",
    "    min=0,\n",
    "    max=671,\n",
    "    step=1,\n",
    "    description='Timestep:',\n",
    "    continuous_update=True,\n",
    ")\n",
    "\n",
    "interact(visualize_snapshot, timestep=slider)"
   ]
  }
 ],
 "metadata": {
  "kernelspec": {
   "display_name": ".venv",
   "language": "python",
   "name": "python3"
  },
  "language_info": {
   "codemirror_mode": {
    "name": "ipython",
    "version": 3
   },
   "file_extension": ".py",
   "mimetype": "text/x-python",
   "name": "python",
   "nbconvert_exporter": "python",
   "pygments_lexer": "ipython3",
   "version": "3.13.2"
  }
 },
 "nbformat": 4,
 "nbformat_minor": 5
}
